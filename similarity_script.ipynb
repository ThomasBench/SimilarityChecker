{
 "cells": [
  {
   "cell_type": "code",
   "execution_count": 2,
   "metadata": {},
   "outputs": [],
   "source": [
    "import pickle\n",
    "from helpers import treat_article, compute_similarity_from_articles, compute_many_to_many_sim\n",
    "from glob import glob\n",
    "from nltk.corpus import stopwords"
   ]
  },
  {
   "cell_type": "code",
   "execution_count": 6,
   "metadata": {},
   "outputs": [],
   "source": [
    "### Parameters\n",
    "\n",
    "ENG_STOPWORDS = set(stopwords.words(\"english\"))\n",
    "N_GRAM = 3\n",
    "GAP_TOLERANCE = 5 \n",
    "PADDING = 20"
   ]
  },
  {
   "cell_type": "code",
   "execution_count": 8,
   "metadata": {},
   "outputs": [
    {
     "name": "stderr",
     "output_type": "stream",
     "text": [
      "100%|██████████| 3202/3202 [00:18<00:00, 175.05it/s]\n",
      "100%|██████████| 35495/35495 [07:40<00:00, 77.08it/s] \n",
      "100%|██████████| 3700/3700 [00:24<00:00, 151.37it/s]\n",
      "100%|██████████| 3040/3040 [00:14<00:00, 206.88it/s]\n",
      "100%|██████████| 324/324 [00:03<00:00, 98.53it/s] \n"
     ]
    }
   ],
   "source": [
    "### File paths \n",
    "fr_path = \"./txt files/french.txt\"\n",
    "en_path = \"./txt files/english.txt\"\n",
    "it_path = \"./txt files/italian.txt\"\n",
    "es_path = \"./txt files/spanish.txt\"\n",
    "\n",
    "fr_article = treat_article(fr_path,ENG_STOPWORDS,N_GRAM)\n",
    "en_article = treat_article(en_path,ENG_STOPWORDS,N_GRAM)\n",
    "it_article = treat_article(it_path,ENG_STOPWORDS,N_GRAM)\n",
    "es_article = treat_article(es_path,ENG_STOPWORDS,N_GRAM)\n",
    "\n",
    "france_lat_lon = (46.00,2.00)\n",
    "spain_lat_lon = (40.46,-3.75)\n",
    "italy_lat_lon = (42.23,13.57)\n",
    "england_lat_lon = (52.35,-1.17)\n",
    "\n",
    "languages = [\"french\",\"english\",\"italian\",\"spanish\", ]\n",
    "articles = [fr_article,en_article,it_article,es_article]\n",
    "lat_lon_values = [france_lat_lon,england_lat_lon,italy_lat_lon,spain_lat_lon]"
   ]
  },
  {
   "cell_type": "code",
   "execution_count": 9,
   "metadata": {},
   "outputs": [],
   "source": [
    "# Save the processed files \n",
    "for i,article in enumerate(articles):\n",
    "    with open(f\"./processed/{languages[i]}.pkl\", mode = \"wb\") as f:\n",
    "        pickle.dump((languages[i], article, lat_lon_values[i]),f)\n"
   ]
  },
  {
   "cell_type": "code",
   "execution_count": 3,
   "metadata": {},
   "outputs": [],
   "source": [
    "# Load the processed files\n",
    "languages = []\n",
    "articles = []\n",
    "lat_lon_values = []\n",
    "for file in glob(\"./processed/*.pkl\"):\n",
    "    with open(file, mode = \"rb\") as f:\n",
    "        lang, art, lat_lon = pickle.load(f)\n",
    "    languages.append(lang)\n",
    "    articles.append(art)\n",
    "    lat_lon_values.append(lat_lon)"
   ]
  },
  {
   "cell_type": "code",
   "execution_count": 7,
   "metadata": {},
   "outputs": [
    {
     "name": "stdout",
     "output_type": "stream",
     "text": [
      "The two articles have a similarity score of 3.99, with 90 matching sequences. You can use the viewer to visualize the matching sequences\n",
      "\n",
      "--- --- ---\n",
      "\n",
      "The first article share 3.878636221457617% of its content with the second\n",
      "The second article share 4.092409240924092% of its content with the first\n",
      "\n",
      "--- --- ---\n",
      "\n",
      " \u001b[31mFRANCE kingdom of\u001b[0m of Europe limited to discovery on the coast of Brittany visàvis the north by the Channel the Netherlands to the east\n",
      " \u001b[31mFRANCE Kingdom of\u001b[0m of Europe which ends in the North with the Channel and the Netherlands to the E with Germany Switzerland Savoy and\n"
     ]
    }
   ],
   "source": [
    "import helpers\n",
    "viewer , score  = compute_similarity_from_articles(articles[1], articles[3], gap_tolerance=GAP_TOLERANCE, padding=PADDING)\n",
    "viewer[0]"
   ]
  },
  {
   "cell_type": "code",
   "execution_count": 5,
   "metadata": {},
   "outputs": [
    {
     "name": "stdout",
     "output_type": "stream",
     "text": [
      "          english    french   italian spanish\n",
      "english       NaN       NaN       NaN     NaN\n",
      "french   0.051176       NaN       NaN     NaN\n",
      "italian  0.029895  2.362592       NaN     NaN\n",
      "spanish  0.053762  3.985523  3.002979     NaN\n"
     ]
    },
    {
     "data": {
      "application/vnd.plotly.v1+json": {
       "config": {
        "plotlyServerURL": "https://plot.ly"
       },
       "data": [
        {
         "lat": [
          52.35,
          46
         ],
         "line": {
          "color": "rgb(1.3719357048033218, 1.3719357048033218, 1.3719357048033218)"
         },
         "lon": [
          -1.17,
          2
         ],
         "mode": "markers+lines",
         "name": "english - french sim : 0.05",
         "type": "scattergeo"
        },
        {
         "lat": [
          52.35,
          42.23
         ],
         "line": {
          "color": "rgb(0.0, 0.0, 0.0)"
         },
         "lon": [
          -1.17,
          13.57
         ],
         "mode": "markers+lines",
         "name": "english - italian sim : 0.03",
         "type": "scattergeo"
        },
        {
         "lat": [
          52.35,
          40.46
         ],
         "line": {
          "color": "rgb(1.5386401501381373, 1.5386401501381373, 1.5386401501381373)"
         },
         "lon": [
          -1.17,
          -3.75
         ],
         "mode": "markers+lines",
         "name": "english - spanish sim : 0.05",
         "type": "scattergeo"
        },
        {
         "lat": [
          46,
          42.23
         ],
         "line": {
          "color": "rgb(150.37758575450718, 150.37758575450718, 150.37758575450718)"
         },
         "lon": [
          2,
          13.57
         ],
         "mode": "markers+lines",
         "name": "french - italian sim : 2.36",
         "type": "scattergeo"
        },
        {
         "lat": [
          46,
          40.46
         ],
         "line": {
          "color": "rgb(255.0, 255.0, 255.0)"
         },
         "lon": [
          2,
          -3.75
         ],
         "mode": "markers+lines",
         "name": "french - spanish sim : 3.99",
         "type": "scattergeo"
        },
        {
         "lat": [
          42.23,
          40.46
         ],
         "line": {
          "color": "rgb(191.6602037055904, 191.6602037055904, 191.6602037055904)"
         },
         "lon": [
          13.57,
          -3.75
         ],
         "mode": "markers+lines",
         "name": "italian - spanish sim : 3.00",
         "type": "scattergeo"
        }
       ],
       "layout": {
        "geo": {
         "landcolor": "rgb(204, 204, 204)",
         "lataxis": {
          "dtick": 10,
          "range": [
           35,
           58
          ]
         },
         "lonaxis": {
          "dtick": 20,
          "range": [
           -15,
           20
          ]
         },
         "projection": {
          "type": "equirectangular"
         },
         "resolution": 50,
         "showland": true
        },
        "height": 600,
        "legend": {
         "orientation": "h"
        },
        "showlegend": true,
        "template": {
         "data": {
          "scatter": [
           {
            "type": "scatter"
           }
          ]
         }
        },
        "title": {
         "text": "Similarity map between articles of encyclopedias"
        },
        "width": 800
       }
      }
     },
     "metadata": {},
     "output_type": "display_data"
    }
   ],
   "source": [
    "compute_many_to_many_sim(articles, languages, True, lat_lon_values)"
   ]
  },
  {
   "cell_type": "code",
   "execution_count": null,
   "metadata": {},
   "outputs": [],
   "source": []
  }
 ],
 "metadata": {
  "kernelspec": {
   "display_name": "Python 3.10.4 ('elena')",
   "language": "python",
   "name": "python3"
  },
  "language_info": {
   "codemirror_mode": {
    "name": "ipython",
    "version": 3
   },
   "file_extension": ".py",
   "mimetype": "text/x-python",
   "name": "python",
   "nbconvert_exporter": "python",
   "pygments_lexer": "ipython3",
   "version": "3.10.4"
  },
  "orig_nbformat": 4,
  "vscode": {
   "interpreter": {
    "hash": "8a6dfac6a863ce74490bf67068b844c1f481ab82347803ea647cf3fdeb1d638d"
   }
  }
 },
 "nbformat": 4,
 "nbformat_minor": 2
}
